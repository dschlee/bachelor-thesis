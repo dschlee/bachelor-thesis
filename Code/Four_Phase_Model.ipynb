{
 "cells": [
  {
   "cell_type": "code",
   "execution_count": null,
   "metadata": {},
   "outputs": [],
   "source": [
    "from dolfin import *\n",
    "import numpy as np"
   ]
  },
  {
   "cell_type": "code",
   "execution_count": null,
   "metadata": {},
   "outputs": [],
   "source": [
    "# Input parameter\n",
    "# Material (biophysical) parameter\n",
    "D = 50\n",
    "chi = 0\n",
    "M = 1\n",
    "sig_PH = 0.4\n",
    "sig_HN = 0.2\n",
    "\n",
    "lambda_P =  500\n",
    "lambda_Ph = 250\n",
    "lambda_A = 100\n",
    "lambda_PH = 250\n",
    "lambda_HN = 250\n",
    "\n",
    "\n",
    "# Phase field parameter\n",
    "epsilon = 0.01\n",
    "\n",
    "# Domain\n",
    "R = 0.01\n",
    "pts = [0, 0, 1, 1]\n",
    "n = 100 \n",
    "sig_D = 1.0\n",
    "sig_0 = 1.0\n",
    "\n",
    "# Time\n",
    "dt = 5.0e-06\n",
    "theta = 0.5\n",
    "nT = 2000\n",
    "T = dt*nT"
   ]
  },
  {
   "cell_type": "code",
   "execution_count": null,
   "metadata": {},
   "outputs": [],
   "source": [
    "# Define initial condition as a subclass of UserExpression\n",
    "class InitialCondition(UserExpression):\n",
    "    def eval(self, value, x):\n",
    "        if ((x[0]-(pts[0]+pts[2])/2)**2 + (x[1]-(pts[1]+pts[3])/2)**2) - R >= DOLFIN_EPS:\n",
    "            value[0] = 0.0   # value phi_T\n",
    "            value[1] = 0.0   # value phi_H\n",
    "            value[2] = 0.0   # value phi_N\n",
    "            value[3] = 0.0   # value mu\n",
    "            value[4] = sig_0 # value sig\n",
    "        else:\n",
    "            value[0] = 1.0   # value phi_T\n",
    "            value[1] = 0.0   # value phi_H\n",
    "            value[2] = 0.0   # value phi_N\n",
    "            value[3] = 0.0   # value mu\n",
    "            value[4] = sig_0 # value sig\n",
    "    def value_shape(self):\n",
    "        return(5,)"
   ]
  },
  {
   "cell_type": "code",
   "execution_count": null,
   "metadata": {},
   "outputs": [],
   "source": [
    "# Create mesh and build function space\n",
    "mesh = RectangleMesh(Point(pts[0], pts[1]), Point(pts[2], pts[3]), n, n)\n",
    "P1 = FiniteElement('P', triangle, 1)\n",
    "element = MixedElement([P1, P1, P1, P1, P1])\n",
    "ME = FunctionSpace(mesh, element)"
   ]
  },
  {
   "cell_type": "code",
   "execution_count": null,
   "metadata": {},
   "outputs": [],
   "source": [
    "# Define trial and test functions\n",
    "du = TrialFunction(ME)\n",
    "q, s, t, v, w = TestFunctions(ME)"
   ]
  },
  {
   "cell_type": "code",
   "execution_count": null,
   "metadata": {},
   "outputs": [],
   "source": [
    "# Define solutions (current and previous) as function of ME\n",
    "u = Function(ME)\n",
    "u0 = Function(ME)\n",
    "\n",
    "# Split mixed functions\n",
    "dphiT, dphiH, dphiN, dmu, dsig = split(du)\n",
    "phiT, phiH, phiN, mu, sig = split(u)\n",
    "phiT0, phiH0, phiN0, mu0, sig0 = split(u0)"
   ]
  },
  {
   "cell_type": "code",
   "execution_count": null,
   "metadata": {},
   "outputs": [],
   "source": [
    "# Create instance of initial conditions and interpolate\n",
    "u_init = InitialCondition(degree=1)\n",
    "u_init_interp = interpolate(u_init, ME)\n",
    "u.vector()[:] = u_init_interp.vector()[:]\n",
    "u0.vector()[:] = u_init_interp.vector()[:]"
   ]
  },
  {
   "cell_type": "code",
   "execution_count": null,
   "metadata": {},
   "outputs": [],
   "source": [
    "# Create Dirchlet boundary condition for nutrients only\n",
    "def boundary(x, on_boundary):\n",
    "    return on_boundary\n",
    "\n",
    "bc = DirichletBC(ME.sub(4), sig_D, boundary)"
   ]
  },
  {
   "cell_type": "code",
   "execution_count": null,
   "metadata": {},
   "outputs": [],
   "source": [
    "# Compute the chemical potential df/dphi\n",
    "phiT = variable(phiT)\n",
    "f = 100*phiT**2 *(1-phiT)**2\n",
    "dfdphiT = diff(f, phiT)"
   ]
  },
  {
   "cell_type": "code",
   "execution_count": null,
   "metadata": {},
   "outputs": [],
   "source": [
    "# Compute the Heaviside functions for the different phase transitions \n",
    "sig = variable(sig)\n",
    "heaviPH = conditional(gt(sig-sig_PH,0),0,1)\n",
    "heaviHP = conditional(gt(sig_PH-sig,0),0,1)\n",
    "heaviHN = conditional(gt(sig-sig_HN,0),0,1)"
   ]
  },
  {
   "cell_type": "code",
   "execution_count": null,
   "metadata": {},
   "outputs": [],
   "source": [
    "# Time stepping variable\n",
    "mu_mid = (1.0-theta)*mu0 + theta*mu"
   ]
  },
  {
   "cell_type": "code",
   "execution_count": null,
   "metadata": {},
   "outputs": [],
   "source": [
    "# State weak formulation of the governing equations\n",
    "dx = Measure('dx', mesh)\n",
    "\n",
    "L0 = (phiT-phiT0)*q*dx + phiT**2*M*dt*mu_mid*q*dx - dt*lambda_P*sig*(phiT-phiH-phiN)*q*dx + dt*lambda_A*(phiT-phiN)*q*dx +\\\n",
    "     dt*lambda_PH*heaviPH*(phiT-phiH-phiN)*q*dx - dt*lambda_PH*heaviHP*phiH*q*dx\n",
    "L1 = (phiH-phiH0)*s*dx + phiH**2*M*dt*mu_mid*s*dx + dt*lambda_A*phiH*s*dx - dt*lambda_PH*heaviPH*(phiT-phiH-phiN)*s*dx + \\\n",
    "     dt*lambda_PH*heaviHP*phiH*s*dx + dt*lambda_HN*heaviHN*phiH*s*dx\n",
    "L2 = (phiN-phiN0)*t*dx + phiN**2*M*dt*mu_mid*t*dx - dt*lambda_HN*heaviHN*phiH*t*dx \n",
    "L3 = mu*v*dx - dfdphiT/epsilon*v*dx - dot(grad(phiT), grad(v))*dx\n",
    "L4 = (sig-sig0)*w*dx + dt*dot(grad(w), grad(sig))*dx + dt*lambda_P*sig*(phiT-phiH-phiN)*w*dx + dt*lambda_Ph*sig*phiH*w*dx\n",
    "\n",
    "L = L0 + L1 + L2 + L3 + L4"
   ]
  },
  {
   "cell_type": "code",
   "execution_count": null,
   "metadata": {},
   "outputs": [],
   "source": [
    "# Compute directional derivative about u in the direction of du (Jacobian)\n",
    "a = derivative(L, u, du)"
   ]
  },
  {
   "cell_type": "code",
   "execution_count": null,
   "metadata": {},
   "outputs": [],
   "source": [
    "# Create output file and specify save location\n",
    "file1 = File(\"FourPhaseAC/phi_T.pvd\", \"compressed\")\n",
    "file2 = File(\"FourPhaseAC/phi_H.pvd\", \"compressed\")\n",
    "file3 = File(\"FourPhaseAC/phi_N.pvd\", \"compressed\")\n",
    "file4 = File(\"FourPhaseAC/sig.pvd\", \"compressed\")\n",
    "u.rename(\"phasefield\", \"u\")"
   ]
  },
  {
   "cell_type": "code",
   "execution_count": null,
   "metadata": {},
   "outputs": [],
   "source": [
    "# Compute the transient problem until terminal time T and write to file in \n",
    "# every time step\n",
    "t = 0\n",
    "while (t < T):\n",
    "    t += dt\n",
    "    u0.vector()[:] = u.vector()\n",
    "    solve(L==0, u, bcs=bc, J=a)\n",
    "    \n",
    "    \n",
    "    file1 << (u.split()[0], t)\n",
    "    file2 << (u.split()[1], t)\n",
    "    file3 << (u.split()[2], t)\n",
    "    file4 << (u.split()[4], t)"
   ]
  }
 ],
 "metadata": {
  "kernelspec": {
   "display_name": "Python 3",
   "language": "python",
   "name": "python3"
  },
  "language_info": {
   "codemirror_mode": {
    "name": "ipython",
    "version": 3
   },
   "file_extension": ".py",
   "mimetype": "text/x-python",
   "name": "python",
   "nbconvert_exporter": "python",
   "pygments_lexer": "ipython3",
   "version": "3.8.3-final"
  }
 },
 "nbformat": 4,
 "nbformat_minor": 4
}