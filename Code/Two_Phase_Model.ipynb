{
 "cells": [
  {
   "cell_type": "code",
   "execution_count": 1,
   "metadata": {},
   "outputs": [],
   "source": [
    "from dolfin import *\n",
    "import random"
   ]
  },
  {
   "cell_type": "code",
   "execution_count": 2,
   "metadata": {},
   "outputs": [],
   "source": [
    "# Input parameter\n",
    "# Material\n",
    "D = 100                      # diffusion coefficient\n",
    "a = Constant((0.0, 0.0))     # advection velocity\n",
    "lambda_g = 2000              # growth parameter of tumor\n",
    "lambda_a = 500              # apoptosis parameter of tumor\n",
    "chi = 1\n",
    "\n",
    "# Phase field\n",
    "epsilon = 0.02               # interface width\n",
    "M = 1.0                      # mobility parameter\n",
    "\n",
    "# Domain\n",
    "R = 0.025                    # initial radius of tumor\n",
    "pts = [0, 0, 1, 1]           # corner points of computational domain\n",
    "n = 128                      # number of elements in each direction\n",
    "sig_D = 1.0                  # dirichlet boundary condition of nutrients\n",
    "sig_0 = 1.0                  # initial condition of nutrients\n",
    "\n",
    "# Time\n",
    "dt = 5.0e-06                 # time step size\n",
    "theta = 0.5                  # time stepping family\n",
    "nT = 251                     # number of time steps\n",
    "T = dt*nT"
   ]
  },
  {
   "cell_type": "code",
   "execution_count": 3,
   "metadata": {},
   "outputs": [],
   "source": [
    "# Define Initial condition as a subclass of UserExpression\n",
    "class InitialCondition(UserExpression):\n",
    "    def eval(self, value, x):\n",
    "        if ((x[0]-(pts[0]+pts[2])/2)**2 + (x[1]-(pts[1]+pts[3])/2)**2) - R >= DOLFIN_EPS:\n",
    "            value[0] = 0.0     # value phi\n",
    "            value[1] = 0.0     # value mu\n",
    "        else: \n",
    "            value[0] = 1.0\n",
    "            value[1] = 0.0\n",
    "    def value_shape(self):\n",
    "        return(2,)"
   ]
  },
  {
   "cell_type": "code",
   "execution_count": 4,
   "metadata": {},
   "outputs": [],
   "source": [
    "# Create mesh and build function space\n",
    "mesh = RectangleMesh(Point(pts[0], pts[1]), Point(pts[2], pts[3]), n, n)\n",
    "P1  = FiniteElement('P', triangle, 1)\n",
    "element = MixedElement([P1, P1])\n",
    "ME = FunctionSpace(mesh, element)"
   ]
  },
  {
   "cell_type": "code",
   "execution_count": 5,
   "metadata": {},
   "outputs": [],
   "source": [
    "# Define trial and test functions\n",
    "du = TrialFunction(ME)\n",
    "q, v = TestFunctions(ME)"
   ]
  },
  {
   "cell_type": "code",
   "execution_count": 6,
   "metadata": {},
   "outputs": [],
   "source": [
    "# Define solution (current and previous) as function of ME\n",
    "u = Function(ME)      # current solution\n",
    "u0 = Function(ME)     # solution from previous converged time step\n",
    "\n",
    "# Split mixed functions\n",
    "dphi, dmu = split(du)\n",
    "phi, mu = split(u)\n",
    "phi0, mu0 = split(u0)"
   ]
  },
  {
   "cell_type": "code",
   "execution_count": 7,
   "metadata": {},
   "outputs": [],
   "source": [
    "# Create instance of initial conditions and interpolate \n",
    "u_init = InitialCondition(degree=1)\n",
    "u_init_interp = interpolate(u_init, ME)\n",
    "u.vector()[:] = u_init_interp.vector()[:]\n",
    "u0.vector()[:] = u_init_interp.vector()[:]"
   ]
  },
  {
   "cell_type": "code",
   "execution_count": 8,
   "metadata": {},
   "outputs": [],
   "source": [
    "# Compute the chemical potential df/dphi\n",
    "phi = variable(phi)     # Define phi as a variable\n",
    "f = 100*phi**2*(1-phi)**2\n",
    "dfdphi = diff(f, phi)   # Compute functional derivitive of f"
   ]
  },
  {
   "cell_type": "code",
   "execution_count": 9,
   "metadata": {},
   "outputs": [],
   "source": [
    "# Time stepping variable\n",
    "mu_mid = (1.0-theta)*mu0 + theta*mu\n",
    "dx = Measure('dx', mesh)\n",
    "\n",
    "# State weak formulation of the governing equations \n",
    "L0 = (phi-phi0)*q*dx + M*dt*dot(grad(mu_mid), grad(q))*dx - dt*lambda_g*phi*q*dx + dt*lambda_a*phi*q*dx\n",
    "L1 = mu*v*dx - dfdphi*v*dx - epsilon*dot(grad(phi), grad(v))*dx\n",
    "L = L0 + L1"
   ]
  },
  {
   "cell_type": "code",
   "execution_count": 10,
   "metadata": {},
   "outputs": [],
   "source": [
    "# Compute directional derivative about u in the direction of du (Jacobian)\n",
    "a = derivative(L, u, du)"
   ]
  },
  {
   "cell_type": "code",
   "execution_count": 11,
   "metadata": {},
   "outputs": [],
   "source": [
    "# Create output file and specify save location\n",
    "file1 = File(\"CH_Growth/phi.pvd\", \"compressed\")\n",
    "u.rename(\"phasefield\", \"u\")"
   ]
  },
  {
   "cell_type": "code",
   "execution_count": 12,
   "metadata": {},
   "outputs": [],
   "source": [
    "# Compute transient solution and write to file in every time step\n",
    "t = 0      # Starting time\n",
    "while (t < T):\n",
    "    t += dt\n",
    "    u0.vector()[:] = u.vector()\n",
    "    solve(L==0, u, J=a)\n",
    "\n",
    "    file1 << (u.split()[0], t)"
   ]
  }
 ],
 "metadata": {
  "kernelspec": {
   "display_name": "Python 3",
   "language": "python",
   "name": "python3"
  },
  "language_info": {
   "codemirror_mode": {
    "name": "ipython",
    "version": 3
   },
   "file_extension": ".py",
   "mimetype": "text/x-python",
   "name": "python",
   "nbconvert_exporter": "python",
   "pygments_lexer": "ipython3",
   "version": "3.7.4"
  },
  "varInspector": {
   "cols": {
    "lenName": 16,
    "lenType": 16,
    "lenVar": 40
   },
   "kernels_config": {
    "python": {
     "delete_cmd_postfix": "",
     "delete_cmd_prefix": "del ",
     "library": "var_list.py",
     "varRefreshCmd": "print(var_dic_list())"
    },
    "r": {
     "delete_cmd_postfix": ") ",
     "delete_cmd_prefix": "rm(",
     "library": "var_list.r",
     "varRefreshCmd": "cat(var_dic_list()) "
    }
   },
   "types_to_exclude": [
    "module",
    "function",
    "builtin_function_or_method",
    "instance",
    "_Feature"
   ],
   "window_display": false
  }
 },
 "nbformat": 4,
 "nbformat_minor": 4
}
